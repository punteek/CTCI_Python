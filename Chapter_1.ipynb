{
 "cells": [
  {
   "cell_type": "code",
   "execution_count": 2,
   "id": "6971f0af-d71b-42fa-aac9-f9426729749d",
   "metadata": {},
   "outputs": [
    {
     "name": "stdout",
     "output_type": "stream",
     "text": [
      "All 1.1 test cases passed\n"
     ]
    }
   ],
   "source": [
    "# 1.1 Is Unique: Implement an algorithm to determine if a string has all unique characters.\n",
    "# What if you cannot use additional data structures?\n",
    "\n",
    "def isUnique(inputStr: str):\n",
    "    duplicateCheckSet = set()\n",
    "    for char in inputStr:\n",
    "        if char in duplicateCheckSet:\n",
    "            return False\n",
    "        else:\n",
    "            duplicateCheckSet.add(char)\n",
    "    return True\n",
    "\n",
    "def isUnique2(inputStr: str):\n",
    "    if(len(inputStr) <= 1):\n",
    "        return True\n",
    "    \n",
    "    sortedInput = sorted(inputStr)\n",
    "    for i in range(len(inputStr) - 1):\n",
    "        if inputStr[i] == inputStr[i + 1]:\n",
    "            return False\n",
    "    return True\n",
    "\n",
    "# 1.1 Tests\n",
    "\n",
    "assert isUnique(\"hello\") == False, \"test case 1 failed\"\n",
    "assert isUnique(\"world\") == True, \"test case 2 failed\"\n",
    "assert isUnique(\"\") == True, \"test case 3 failed\"\n",
    "\n",
    "assert isUnique2(\"hello\") == False, \"test case 1 failed\"\n",
    "assert isUnique2(\"world\") == True, \"test case 2 failed\"\n",
    "assert isUnique2(\"\") == True, \"test case 3 failed\"\n",
    "\n",
    "print (\"All 1.1 test cases passed\")"
   ]
  },
  {
   "cell_type": "code",
   "execution_count": 5,
   "id": "93ea5d88",
   "metadata": {},
   "outputs": [
    {
     "name": "stdout",
     "output_type": "stream",
     "text": [
      "All 1.2 test cases pass\n"
     ]
    }
   ],
   "source": [
    "# 1.2 Check Permutation: Given two strings, write a method to decide if one is a permutation of the other.\n",
    "\n",
    "def isPermutation(inputStr1: str, inputStr2: str):\n",
    "    freqMap1 = {}\n",
    "    for char in inputStr1:\n",
    "        freqMap1[char] = freqMap1.get(char, 0) + 1\n",
    "    freqMap2 = {}\n",
    "    for char in inputStr2:\n",
    "        freqMap2[char] = freqMap2.get(char, 0) + 1\n",
    "    return freqMap1 == freqMap2\n",
    "\n",
    "assert isPermutation(\"hello\", \"olleh\") == True, \"test case 1 failed\"\n",
    "assert isPermutation(\"abc\", \"acb\") == True, \"test case 2 failed\"\n",
    "assert isPermutation(\"\", \"\") == True, \"test case 3 failed\"\n",
    "assert isPermutation(\"\", \"what\") == False, \"test case 4 failed\"\n",
    "assert isPermutation(\"aslka;sl\", \"arnab;shla\") == False, \"test case 5 failed\"\n",
    "\n",
    "print(\"All 1.2 test cases pass\")"
   ]
  },
  {
   "cell_type": "code",
   "execution_count": 18,
   "id": "06a4e7a1",
   "metadata": {},
   "outputs": [
    {
     "name": "stdout",
     "output_type": "stream",
     "text": [
      "All 1.3 test cases pass\n"
     ]
    }
   ],
   "source": [
    "# 1.3 URLify: Write a method to replace all spaces in a string with '%20: You may assume that the string\n",
    "# has sufficient space at the end to hold the additional characters, and that you are given the \"true\"\n",
    "# length of the string.\n",
    "\n",
    "def URLify(inputStr: str, finalLength: int):\n",
    "\n",
    "    if inputStr == \"\":\n",
    "        return \"\"\n",
    "\n",
    "    # first find the index of the first non-whitespace character from the back\n",
    "    firstCharPtr = 0\n",
    "    endPtr = len(inputStr) - 1\n",
    "    for i in range(len(inputStr) - 1, -1, -1):\n",
    "        if inputStr[i] != \" \":\n",
    "            firstCharPtr = i\n",
    "            break\n",
    "\n",
    "    while firstCharPtr < endPtr:\n",
    "        if inputStr[firstCharPtr] != \" \":\n",
    "            inputStr = inputStr[:endPtr] + inputStr[firstCharPtr] + inputStr[endPtr + 1:]\n",
    "            firstCharPtr -= 1\n",
    "            endPtr -= 1\n",
    "        if inputStr[firstCharPtr] == \" \":\n",
    "            firstCharPtr -= 1\n",
    "            inputStr = inputStr[:endPtr] + \"0\" + inputStr[endPtr + 1:]\n",
    "            endPtr -= 1\n",
    "            inputStr = inputStr[:endPtr] + \"2\" + inputStr[endPtr + 1:]\n",
    "            endPtr -= 1\n",
    "            inputStr = inputStr[:endPtr] + \"%\" + inputStr[endPtr + 1:]\n",
    "            endPtr -= 1\n",
    "    return inputStr\n",
    "\n",
    "assert URLify(\"Mr Jon Smith    \", 13) == \"Mr%20Jon%20Smith\", \"test case 1 failed\"\n",
    "assert URLify(\"\", 0) == \"\", \"test case 2 failed\"\n",
    "print (\"All 1.3 test cases pass\")\n",
    "        "
   ]
  },
  {
   "cell_type": "code",
   "execution_count": 27,
   "id": "ed73e830",
   "metadata": {},
   "outputs": [
    {
     "name": "stdout",
     "output_type": "stream",
     "text": [
      "All 1.4 test cases pass\n"
     ]
    }
   ],
   "source": [
    "# 1.4 Palindrome Permutation: Given a string, write a function to check if it is a permutation of a palin-\n",
    "# drome. A palindrome is a word or phrase that is the same forwards and backwards. A permutation\n",
    "# is a rearrangement of letters. The palindrome does not need to be limited to just dictionary words.\n",
    "\n",
    "def isPalPerm(inputStr: str):\n",
    "    if len(inputStr) <= 1:\n",
    "        return True\n",
    "    \n",
    "    # Sanitize the input based on the example in the problem\n",
    "    # I would clarify if there are other considerations on the input, (e.g. if special characters should be sanitized or\n",
    "    # treated as part of the input string, even though it says not limited to dictionary words)\n",
    "    sanitizedInput = inputStr.replace(\" \", \"\")\n",
    "    sanitizedInput = sanitizedInput.lower()\n",
    "\n",
    "    # create a frequency map of all the characters in the input string\n",
    "    freqDict = {}\n",
    "    for char in sanitizedInput:\n",
    "        freqDict[char] = freqDict.get(char, 0) + 1\n",
    "\n",
    "    # to ensure palindrome, there must be an even count for every character, with the exception of a maximum of one other count being odd\n",
    "    # as the odd number of one character can all go in the middle of the palindrome\n",
    "    \n",
    "    foundOddFreq = False\n",
    "    for value in freqDict.values():\n",
    "        if value % 2 != 0:\n",
    "            if foundOddFreq:\n",
    "                return False\n",
    "            else:\n",
    "                foundOddFreq = True\n",
    "    return True\n",
    "\n",
    "assert isPalPerm(\"yyyooo\") == False, \"test case 1 failed\"\n",
    "assert isPalPerm(\"racecar\") == True, \"test case 2 failed\"\n",
    "assert isPalPerm(\"Tact Coa\"), \"test case 3 failed\"\n",
    "print (\"All 1.4 test cases pass\")"
   ]
  },
  {
   "cell_type": "code",
   "execution_count": 28,
   "id": "0d7b9ee3",
   "metadata": {},
   "outputs": [
    {
     "name": "stdout",
     "output_type": "stream",
     "text": [
      "All 1.5 test cases passed\n"
     ]
    }
   ],
   "source": [
    "# 1.5 One Away: There are three types of edits that can be performed on strings: insert a character,\n",
    "# remove a character, or replace a character. Given two strings, write a function to check if they are\n",
    "# one edit (or zero edits) away.\n",
    "\n",
    "# note: try another approach where we just use two pointers between the two strings\n",
    "\n",
    "def isOneAway(inputStr1: str, inputStr2: str):\n",
    "    # if the strings differ in length by more than 1, they cannot be one away\n",
    "    if abs(len(inputStr1) - len(inputStr2)) > 1:\n",
    "        return False\n",
    "    \n",
    "    if len(inputStr1) <= 1 and len(inputStr2) <= 1:\n",
    "        return True\n",
    "    \n",
    "    strPointer1 = 0\n",
    "    strPointer2 = 0\n",
    "    neededOneEdit = False\n",
    "\n",
    "    while strPointer1 < len(inputStr1) and strPointer2 < len(inputStr2):\n",
    "        if inputStr1[strPointer1] == inputStr2[strPointer2]:\n",
    "            strPointer1 += 1\n",
    "            strPointer2 += 1\n",
    "            continue\n",
    "        elif len(inputStr1) < len(inputStr2) and inputStr1[strPointer1] != inputStr2[strPointer2]:\n",
    "            if neededOneEdit:\n",
    "                return False\n",
    "            strPointer2 += 1\n",
    "            neededOneEdit = True\n",
    "        elif len(inputStr2) < len(inputStr1) and inputStr1[strPointer1] != inputStr2[strPointer2]:\n",
    "            if neededOneEdit:\n",
    "                return False\n",
    "            strPointer1 += 1\n",
    "            neededOneEdit = True\n",
    "        elif len(inputStr2) == len(inputStr1) and inputStr1[strPointer1] != inputStr2[strPointer2]:\n",
    "            if neededOneEdit:\n",
    "                return False\n",
    "            strPointer1 += 1\n",
    "            strPointer2 += 1\n",
    "            neededOneEdit = True\n",
    "\n",
    "    return True\n",
    "\n",
    "\n",
    "assert isOneAway(\"pale\", \"ple\") == True, \"test case 1 failed\"\n",
    "assert isOneAway(\"pales\", \"pale\") == True, \"test case 2 failed\"\n",
    "assert isOneAway(\"pale\", \"bale\") == True, \"test case 3 failed\"\n",
    "assert isOneAway(\"pale\", \"bake\") == False, \"test case 4 failed\"\n",
    "print(\"All 1.5 test cases passed\")"
   ]
  },
  {
   "cell_type": "code",
   "execution_count": 29,
   "id": "ed05c5bd",
   "metadata": {},
   "outputs": [
    {
     "name": "stdout",
     "output_type": "stream",
     "text": [
      "All 1.6 test cases passed\n"
     ]
    }
   ],
   "source": [
    "# 1.6 String Compression: Implement a method to perform basic string compression using the counts\n",
    "# of repeated characters. For example, the string aabcccccaaa would become a2b1c5a3. If the\n",
    "# \"compressed\" string would not become smaller than the original string, your method should return\n",
    "# the original string. You can assume the string has only uppercase and lowercase letters (a - z).\n",
    "\n",
    "def compressString(inputStr: str):\n",
    "    if len(inputStr) <= 1:\n",
    "        return inputStr\n",
    "    \n",
    "    solutionStr = \"\"\n",
    "\n",
    "    i = 0\n",
    "    while i < len(inputStr):\n",
    "        charCounter = 1\n",
    "        solutionStr += inputStr[i]\n",
    "        while (i + 1) < len(inputStr) and inputStr[i] == inputStr[i + 1]: \n",
    "            charCounter += 1\n",
    "            i += 1\n",
    "        solutionStr += str(charCounter)\n",
    "        i += 1\n",
    "\n",
    "    if len(solutionStr) >= len(inputStr):\n",
    "        return inputStr\n",
    "    else:\n",
    "        return solutionStr\n",
    "\n",
    "assert compressString(\"\") == \"\", \"test case 1 failed\"\n",
    "assert compressString(\"a\") == \"a\", \"test case 2 failed\"\n",
    "assert compressString(\"aabcccccaaa\") == \"a2b1c5a3\", \"test case 4 failed\"\n",
    "assert compressString(\"abcdefghij\") == \"abcdefghij\", \"test case 5 failed\"\n",
    "print(\"All 1.6 test cases passed\")\n"
   ]
  },
  {
   "cell_type": "code",
   "execution_count": 30,
   "id": "9b4b2764",
   "metadata": {},
   "outputs": [
    {
     "name": "stdout",
     "output_type": "stream",
     "text": [
      "All 1.7 test cases passed\n"
     ]
    }
   ],
   "source": [
    "# 1.7 Rotate Matrix: Given an image represented by an NxN matrix, where each pixel in the image is 4\n",
    "# bytes, write a method to rotate the image by 90 degrees. Can you do this in place?\n",
    "\n",
    "from typing import List\n",
    "\n",
    "def rotateMatrix(inputArr: List[List[int]]):\n",
    "    if len(inputArr) < 2:\n",
    "        return inputArr\n",
    "\n",
    "    solutionArr = [[0 for i in range(len(inputArr))] for j in range(len(inputArr))]\n",
    "    for i in range(len(inputArr)):\n",
    "        for j in range (len(inputArr) - 1, -1, -1):\n",
    "            solutionArr[len(inputArr) - j - 1][i] = inputArr[i][j]\n",
    "    return solutionArr\n",
    "\n",
    "assert rotateMatrix([[]]) == [[]], \"test case 1 failed\"\n",
    "assert rotateMatrix([[4]]) == [[4]], \"test case 2 failed\"\n",
    "assert rotateMatrix([[1, 2, 3], [4, 5, 6], [7, 8, 9]]) == [[3, 6, 9], [2, 5, 8], [1, 4, 7]], \"test case 3 failed\"\n",
    "print(\"All 1.7 test cases passed\")"
   ]
  },
  {
   "cell_type": "code",
   "execution_count": 34,
   "id": "c2fa0261",
   "metadata": {},
   "outputs": [
    {
     "name": "stdout",
     "output_type": "stream",
     "text": [
      "[[0, 0, 0], [0, 4, 0], [0, 0, 0]]\n",
      "[[0, 0, 0, 0], [0, 0, 0, 0], [0, 8, 0, 10]]\n",
      "[[0, 0, 0], [0, 2, 3], [0, 5, 6]]\n"
     ]
    },
    {
     "ename": "AssertionError",
     "evalue": "test case 4 failed",
     "output_type": "error",
     "traceback": [
      "\u001b[0;31m---------------------------------------------------------------------------\u001b[0m",
      "\u001b[0;31mAssertionError\u001b[0m                            Traceback (most recent call last)",
      "Cell \u001b[0;32mIn[34], line 38\u001b[0m\n\u001b[1;32m     36\u001b[0m \u001b[38;5;28;01massert\u001b[39;00m setZeros([[\u001b[38;5;241m0\u001b[39m, \u001b[38;5;241m1\u001b[39m, \u001b[38;5;241m2\u001b[39m], [\u001b[38;5;241m3\u001b[39m, \u001b[38;5;241m4\u001b[39m, \u001b[38;5;241m5\u001b[39m], [\u001b[38;5;241m6\u001b[39m, \u001b[38;5;241m7\u001b[39m, \u001b[38;5;241m0\u001b[39m]]) \u001b[38;5;241m==\u001b[39m [[\u001b[38;5;241m0\u001b[39m, \u001b[38;5;241m0\u001b[39m, \u001b[38;5;241m0\u001b[39m], [\u001b[38;5;241m0\u001b[39m, \u001b[38;5;241m4\u001b[39m, \u001b[38;5;241m0\u001b[39m], [\u001b[38;5;241m0\u001b[39m, \u001b[38;5;241m0\u001b[39m, \u001b[38;5;241m0\u001b[39m]], \u001b[38;5;124m\"\u001b[39m\u001b[38;5;124mtest case 2 failed\u001b[39m\u001b[38;5;124m\"\u001b[39m\n\u001b[1;32m     37\u001b[0m \u001b[38;5;28;01massert\u001b[39;00m setZeros([[\u001b[38;5;241m0\u001b[39m, \u001b[38;5;241m1\u001b[39m, \u001b[38;5;241m2\u001b[39m, \u001b[38;5;241m3\u001b[39m], [\u001b[38;5;241m4\u001b[39m, \u001b[38;5;241m5\u001b[39m, \u001b[38;5;241m0\u001b[39m, \u001b[38;5;241m6\u001b[39m], [\u001b[38;5;241m7\u001b[39m, \u001b[38;5;241m8\u001b[39m, \u001b[38;5;241m9\u001b[39m, \u001b[38;5;241m10\u001b[39m]]) \u001b[38;5;241m==\u001b[39m [[\u001b[38;5;241m0\u001b[39m, \u001b[38;5;241m0\u001b[39m, \u001b[38;5;241m0\u001b[39m, \u001b[38;5;241m0\u001b[39m], [\u001b[38;5;241m0\u001b[39m, \u001b[38;5;241m0\u001b[39m, \u001b[38;5;241m0\u001b[39m, \u001b[38;5;241m0\u001b[39m], [\u001b[38;5;241m0\u001b[39m, \u001b[38;5;241m8\u001b[39m, \u001b[38;5;241m0\u001b[39m, \u001b[38;5;241m10\u001b[39m]], \u001b[38;5;124m\"\u001b[39m\u001b[38;5;124mtest case 3 failed\u001b[39m\u001b[38;5;124m\"\u001b[39m\n\u001b[0;32m---> 38\u001b[0m \u001b[38;5;28;01massert\u001b[39;00m setZeros([[\u001b[38;5;241m0\u001b[39m, \u001b[38;5;241m0\u001b[39m, \u001b[38;5;241m0\u001b[39m], [\u001b[38;5;241m1\u001b[39m, \u001b[38;5;241m2\u001b[39m, \u001b[38;5;241m3\u001b[39m], [\u001b[38;5;241m4\u001b[39m, \u001b[38;5;241m5\u001b[39m, \u001b[38;5;241m6\u001b[39m]]) \u001b[38;5;241m==\u001b[39m [[\u001b[38;5;241m0\u001b[39m, \u001b[38;5;241m0\u001b[39m, \u001b[38;5;241m0\u001b[39m], [\u001b[38;5;241m0\u001b[39m, \u001b[38;5;241m0\u001b[39m, \u001b[38;5;241m0\u001b[39m], [\u001b[38;5;241m0\u001b[39m, \u001b[38;5;241m0\u001b[39m, \u001b[38;5;241m0\u001b[39m]], \u001b[38;5;124m\"\u001b[39m\u001b[38;5;124mtest case 4 failed\u001b[39m\u001b[38;5;124m\"\u001b[39m\n\u001b[1;32m     39\u001b[0m \u001b[38;5;28mprint\u001b[39m(\u001b[38;5;124m\"\u001b[39m\u001b[38;5;124mAll 1.8 tests passed\u001b[39m\u001b[38;5;124m\"\u001b[39m)\n",
      "\u001b[0;31mAssertionError\u001b[0m: test case 4 failed"
     ]
    }
   ],
   "source": [
    "# 1.8 Zero Matrix: Write an algorithm such that if an element in an MxN matrix is 0, its entire row and columnn are set to 0.\n",
    "\n",
    "from typing import List\n",
    "\n",
    "def setZeros(inputArr: List[List[int]]):\n",
    "    # I assume the input array is properly constructed, and each cell contains an int\n",
    "\n",
    "    if len(inputArr) == 0:\n",
    "        return []\n",
    "    elif len(inputArr[0]) == 0:\n",
    "        return [[]]\n",
    "\n",
    "    zeroedRowsSet, zeroedColsSet = set(), set()\n",
    "\n",
    "    for i in range(len(inputArr)):\n",
    "        for j in range(len(inputArr[i])):\n",
    "            # if i, j exists in the sets, then the cell is 0 due to our operations, so skip it\n",
    "            if i in zeroedRowsSet or j in zeroedColsSet:\n",
    "                continue\n",
    "            if inputArr[i][j] == 0:\n",
    "                # clear the row\n",
    "                for k in range(len(inputArr[i])):\n",
    "                    inputArr[i][k] = 0\n",
    "\n",
    "                # clear the column\n",
    "                for l in range(len(inputArr)):\n",
    "                    inputArr[l][j] = 0\n",
    "\n",
    "                # track the cleared row and column\n",
    "                zeroedRowsSet.add(i)\n",
    "                zeroedColsSet.add(j)\n",
    "    print(inputArr)\n",
    "    return inputArr\n",
    "\n",
    "assert setZeros([]) == [], \"test case 1 failed\"\n",
    "assert setZeros([[0, 1, 2], [3, 4, 5], [6, 7, 0]]) == [[0, 0, 0], [0, 4, 0], [0, 0, 0]], \"test case 2 failed\"\n",
    "assert setZeros([[0, 1, 2, 3], [4, 5, 0, 6], [7, 8, 9, 10]]) == [[0, 0, 0, 0], [0, 0, 0, 0], [0, 8, 0, 10]], \"test case 3 failed\"\n",
    "assert setZeros([[0, 0, 0], [1, 2, 3], [4, 5, 6]]) == [[0, 0, 0], [0, 0, 0], [0, 0, 0]], \"test case 4 failed\"\n",
    "print(\"All 1.8 tests passed\")"
   ]
  },
  {
   "cell_type": "code",
   "execution_count": 32,
   "id": "7f856f0a",
   "metadata": {},
   "outputs": [
    {
     "name": "stdout",
     "output_type": "stream",
     "text": [
      "All 1.9 test cases passed\n"
     ]
    }
   ],
   "source": [
    "# 1.9 String Rotation: Assume you have a method isSubst ring which checks if one word is a substring\n",
    "# of another. Given two strings, s1 and s2, write code to check if s2 is a rotation of s1 using only one\n",
    "# call to isSubstring (e.g., \"waterbottle\" is a rotation of \"erbottlewat\").\n",
    "\n",
    "def isRotation(inputStr1: str, inputStr2: str):\n",
    "    return inputStr2 in (inputStr1 + inputStr1)\n",
    "\n",
    "assert isRotation(\"\", \"\") == True, \"test case 1 failed\" \n",
    "assert isRotation(\"waterbottle\", \"erbottlewat\") == True, \"test case 2 failed\"\n",
    "assert isRotation(\"backpack\", \"packlunch\") == False, \"test case 3 failed\"\n",
    "print(\"All 1.9 test cases passed\")\n"
   ]
  }
 ],
 "metadata": {
  "kernelspec": {
   "display_name": "Python 3",
   "language": "python",
   "name": "python3"
  },
  "language_info": {
   "codemirror_mode": {
    "name": "ipython",
    "version": 3
   },
   "file_extension": ".py",
   "mimetype": "text/x-python",
   "name": "python",
   "nbconvert_exporter": "python",
   "pygments_lexer": "ipython3",
   "version": "3.undefined.undefined"
  }
 },
 "nbformat": 4,
 "nbformat_minor": 5
}
