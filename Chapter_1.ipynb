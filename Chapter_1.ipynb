{
 "cells": [
  {
   "cell_type": "code",
   "execution_count": 2,
   "id": "6971f0af-d71b-42fa-aac9-f9426729749d",
   "metadata": {},
   "outputs": [
    {
     "name": "stdout",
     "output_type": "stream",
     "text": [
      "All 1.1 test cases passed\n"
     ]
    }
   ],
   "source": [
    "# 1.1 Is Unique: Implement an algorithm to determine if a string has all unique characters.\n",
    "# What if you cannot use additional data structures?\n",
    "\n",
    "def isUnique(inputStr: str):\n",
    "    duplicateCheckSet = set()\n",
    "    for char in inputStr:\n",
    "        if char in duplicateCheckSet:\n",
    "            return False\n",
    "        else:\n",
    "            duplicateCheckSet.add(char)\n",
    "    return True\n",
    "\n",
    "def isUnique2(inputStr: str):\n",
    "    if(len(inputStr) <= 1):\n",
    "        return True\n",
    "    \n",
    "    sortedInput = sorted(inputStr)\n",
    "    for i in range(len(inputStr) - 1):\n",
    "        if inputStr[i] == inputStr[i + 1]:\n",
    "            return False\n",
    "    return True\n",
    "\n",
    "# 1.1 Tests\n",
    "\n",
    "assert isUnique(\"hello\") == False, \"test case 1 failed\"\n",
    "assert isUnique(\"world\") == True, \"test case 2 failed\"\n",
    "assert isUnique(\"\") == True, \"test case 3 failed\"\n",
    "\n",
    "assert isUnique2(\"hello\") == False, \"test case 1 failed\"\n",
    "assert isUnique2(\"world\") == True, \"test case 2 failed\"\n",
    "assert isUnique2(\"\") == True, \"test case 3 failed\"\n",
    "\n",
    "print (\"All 1.1 test cases passed\")"
   ]
  },
  {
   "cell_type": "code",
   "execution_count": 5,
   "id": "93ea5d88",
   "metadata": {},
   "outputs": [
    {
     "name": "stdout",
     "output_type": "stream",
     "text": [
      "All 1.2 test cases pass\n"
     ]
    }
   ],
   "source": [
    "# 1.2 Check Permutation: Given two strings, write a method to decide if one is a permutation of the other.\n",
    "\n",
    "def isPermutation(inputStr1: str, inputStr2: str):\n",
    "    freqMap1 = {}\n",
    "    for char in inputStr1:\n",
    "        freqMap1[char] = freqMap1.get(char, 0) + 1\n",
    "    freqMap2 = {}\n",
    "    for char in inputStr2:\n",
    "        freqMap2[char] = freqMap2.get(char, 0) + 1\n",
    "    return freqMap1 == freqMap2\n",
    "\n",
    "\n",
    "assert isPermutation(\"hello\", \"olleh\") == True, \"test case 1 failed\"\n",
    "assert isPermutation(\"abc\", \"acb\") == True, \"test case 2 failed\"\n",
    "assert isPermutation(\"\", \"\") == True, \"test case 3 failed\"\n",
    "assert isPermutation(\"\", \"what\") == False, \"test case 4 failed\"\n",
    "assert isPermutation(\"aslka;sl\", \"arnab;shla\") == False, \"test case 5 failed\"\n",
    "\n",
    "print(\"All 1.2 test cases pass\")"
   ]
  },
  {
   "cell_type": "code",
   "execution_count": 18,
   "id": "06a4e7a1",
   "metadata": {},
   "outputs": [
    {
     "name": "stdout",
     "output_type": "stream",
     "text": [
      "All 1.3 test cases pass\n"
     ]
    }
   ],
   "source": [
    "# 1.3 URLify: Write a method to replace all spaces in a string with '%20: You may assume that the string\n",
    "# has sufficient space at the end to hold the additional characters, and that you are given the \"true\"\n",
    "# length of the string.\n",
    "\n",
    "def URLify(inputStr: str, finalLength: int):\n",
    "\n",
    "    if inputStr == \"\":\n",
    "        return \"\"\n",
    "\n",
    "    # first find the index of the first non-whitespace character from the back\n",
    "    firstCharPtr = 0\n",
    "    endPtr = len(inputStr) - 1\n",
    "    for i in range(len(inputStr) - 1, -1, -1):\n",
    "        if inputStr[i] != \" \":\n",
    "            firstCharPtr = i\n",
    "            break\n",
    "\n",
    "    while firstCharPtr < endPtr:\n",
    "        if inputStr[firstCharPtr] != \" \":\n",
    "            inputStr = inputStr[:endPtr] + inputStr[firstCharPtr] + inputStr[endPtr + 1:]\n",
    "            firstCharPtr -= 1\n",
    "            endPtr -= 1\n",
    "        if inputStr[firstCharPtr] == \" \":\n",
    "            firstCharPtr -= 1\n",
    "            inputStr = inputStr[:endPtr] + \"0\" + inputStr[endPtr + 1:]\n",
    "            endPtr -= 1\n",
    "            inputStr = inputStr[:endPtr] + \"2\" + inputStr[endPtr + 1:]\n",
    "            endPtr -= 1\n",
    "            inputStr = inputStr[:endPtr] + \"%\" + inputStr[endPtr + 1:]\n",
    "            endPtr -= 1\n",
    "    return inputStr\n",
    "\n",
    "assert URLify(\"Mr Jon Smith    \", 13) == \"Mr%20Jon%20Smith\", \"test case 1 failed\"\n",
    "assert URLify(\"\", 0) == \"\", \"test case 2 failed\"\n",
    "print (\"All 1.3 test cases pass\")\n",
    "        "
   ]
  },
  {
   "cell_type": "code",
   "execution_count": null,
   "id": "ed73e830",
   "metadata": {},
   "outputs": [],
   "source": []
  }
 ],
 "metadata": {
  "kernelspec": {
   "display_name": "Python 3",
   "language": "python",
   "name": "python3"
  },
  "language_info": {
   "codemirror_mode": {
    "name": "ipython",
    "version": 3
   },
   "file_extension": ".py",
   "mimetype": "text/x-python",
   "name": "python",
   "nbconvert_exporter": "python",
   "pygments_lexer": "ipython3",
   "version": "3.9.6"
  }
 },
 "nbformat": 4,
 "nbformat_minor": 5
}
